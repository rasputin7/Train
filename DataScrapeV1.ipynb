{
 "cells": [
  {
   "cell_type": "markdown",
   "metadata": {
    "pycharm": {
     "name": "#%% md\n"
    }
   },
   "source": [
    "## Code snippets for developing the database software"
   ]
  },
  {
   "cell_type": "markdown",
   "source": [
    "y## Coding tasks for database requirement\n",
    "- Generate Citation dictionary\n",
    "- Generate Group/Subgroup structure for each citation using while looping though a list of the groups, and subgroups to build the full path to each sub-sub-group, then similar looping to build metadata objects, for each group and dataset, after listing the structure of each group in a dictionary or list\n",
    "- Function to request for a given citation Group, the names of the sub-group, eg Experiment1, names of subjects, number of runs per subject, list of figures, liss of tables, table column name for dataset, time series per variable, based on structure, use None to indicate no entry,\n",
    "- Generate base Giraffe Group structure\n",
    "- Code to run through all the identified groups, subgroups, Figures, Tables, datasets to build the database, after all the data entry and digitization is complete, smoothing is done, and units coversion are done\n",
    "- Add data sets to the Gropus and Sub-Groups\n",
    "- Collect and add metadata to each Group, Sub-Group, and Datasets\n",
    "- Code to add pdf file to the database\n",
    "- Code to convert R Objects, i.e, data.frames, and vectors to Python, and hdf5 Objects\n",
    "- Code to extract hdf5 datasets, metadata, and generate publication quality plots and tables\n",
    "- Code for digitization of figures\n",
    "- Code for unit conversion, eg mmHg to Pascals\n",
    "- Scripts to generate tube law relationships\n",
    "- Test code\n",
    "- Code to add images, including graphs, mindmap snippets, videos to the database\n",
    "- Build Python packages, and R libraries for the database manipulation\n",
    "-"
   ],
   "metadata": {
    "collapsed": false,
    "pycharm": {
     "name": "#%% md\n"
    }
   }
  },
  {
   "cell_type": "markdown",
   "metadata": {
    "pycharm": {
     "name": "#%% md\n"
    }
   },
   "source": [
    "## This is an approach for entering citation information\n",
    "Need to add capability to generate a dictionary"
   ]
  },
  {
   "cell_type": "code",
   "execution_count": null,
   "metadata": {
    "pycharm": {
     "name": "#%%\n"
    }
   },
   "outputs": [],
   "source": [
    "# Snippet for obtaining citation information \n",
    "\n",
    "def citationInfo():\n",
    "\tauthor = input(\"Last name of first author \")\n",
    "\tdate = input(\"Data of publication \")\n",
    "\tdic1 = author + date\n",
    "\treturn dic1\n",
    "\n",
    "name = citationInfo()"
   ]
  }
 ],
 "metadata": {
  "kernelspec": {
   "display_name": "Python 3 (ipykernel)",
   "language": "python",
   "name": "python3"
  },
  "language_info": {
   "codemirror_mode": {
    "name": "ipython",
    "version": 3
   },
   "file_extension": ".py",
   "mimetype": "text/x-python",
   "name": "python",
   "nbconvert_exporter": "python",
   "pygments_lexer": "ipython3",
   "version": "3.9.12"
  }
 },
 "nbformat": 4,
 "nbformat_minor": 1
}